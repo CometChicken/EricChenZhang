{
 "cells": [
  {
   "cell_type": "code",
   "execution_count": 1,
   "metadata": {},
   "outputs": [],
   "source": [
    "#model evaluation: \n",
    "#The original thought is to compare the MSEs of different models with that of PCA model"
   ]
  },
  {
   "cell_type": "code",
   "execution_count": 2,
   "metadata": {},
   "outputs": [
    {
     "name": "stderr",
     "output_type": "stream",
     "text": [
      "Loading required package: lattice\n",
      "Loading required package: ggplot2\n",
      "Registered S3 methods overwritten by 'ggplot2':\n",
      "  method         from \n",
      "  [.quosures     rlang\n",
      "  c.quosures     rlang\n",
      "  print.quosures rlang\n"
     ]
    }
   ],
   "source": [
    "library(caret)"
   ]
  },
  {
   "cell_type": "code",
   "execution_count": 3,
   "metadata": {},
   "outputs": [],
   "source": [
    "bodyfat_raw <- read.csv(\"BodyFat.csv\")\n",
    "bodyfat <- bodyfat_raw[,-c(1,3)] #rule out density"
   ]
  },
  {
   "cell_type": "code",
   "execution_count": 4,
   "metadata": {},
   "outputs": [],
   "source": [
    "#rule out of outliers\n",
    "outliers <- c(39,42,86,172,182,216,221) \n",
    "bodyfat <- bodyfat[-outliers, ]"
   ]
  },
  {
   "cell_type": "code",
   "execution_count": 5,
   "metadata": {},
   "outputs": [
    {
     "data": {
      "text/html": [
       "17.1596211940925"
      ],
      "text/latex": [
       "17.1596211940925"
      ],
      "text/markdown": [
       "17.1596211940925"
      ],
      "text/plain": [
       "[1] 17.15962"
      ]
     },
     "metadata": {},
     "output_type": "display_data"
    }
   ],
   "source": [
    "#use all variables\n",
    "accs <- rep(0,3)\n",
    "\n",
    "for (i in 1:3) {\n",
    "  set.seed(2019)\n",
    "  indices <- sample.int(n = nrow(bodyfat), size = floor(2/3*nrow(bodyfat)), replace = F)\n",
    "\n",
    "  train <- bodyfat[-indices,]\n",
    "  test <- bodyfat[indices,]\n",
    "  \n",
    "  model <- lm(BODYFAT ~ ., data = train)\n",
    "  \n",
    "  # Make a prediction on the test set using tree\n",
    "  pred_y=predict(model, test[,-1])\n",
    "  \n",
    "  pred_y=pred_y[!is.na(pred_y)]\n",
    "  test_BODYFAT=test$BODYFAT[!is.na(test$BODYFAT)]\n",
    "  \n",
    "  accs[i] <- mean((pred_y-test_BODYFAT)^2)\n",
    "}\n",
    "\n",
    "(acc_all=mean(accs))"
   ]
  },
  {
   "cell_type": "code",
   "execution_count": 6,
   "metadata": {},
   "outputs": [
    {
     "data": {
      "text/html": [
       "16.4295641044399"
      ],
      "text/latex": [
       "16.4295641044399"
      ],
      "text/markdown": [
       "16.4295641044399"
      ],
      "text/plain": [
       "[1] 16.42956"
      ]
     },
     "metadata": {},
     "output_type": "display_data"
    }
   ],
   "source": [
    "#PCA\n",
    "accs <- rep(0,3)\n",
    "\n",
    "for (i in 1:3) {\n",
    "  set.seed(2019)\n",
    "  indices <- sample.int(n = nrow(bodyfat), size = floor(2/3*nrow(bodyfat)), replace = F)\n",
    "    #(((i-1) * round((1/3)*nrow(bodyfat))) + 1):((i*round((1/3) * nrow(bodyfat))))\n",
    "  \n",
    "  train <- bodyfat[indices,]\n",
    "  test <- bodyfat[-indices,]\n",
    "  \n",
    "  model <- prcomp(train[,-1])\n",
    "  train$PC1=as.numeric(predict(model,train[,-1])[,1])\n",
    "  train$PC2=as.numeric(predict(model,train[,-1])[,2])\n",
    "  train$PC3=as.numeric(predict(model,train[,-1])[,3])\n",
    "  m1=lm(BODYFAT~PC1+PC2+PC3,data=train)\n",
    "  cov=as.data.frame(predict(model,test[,-1])[,1:3])\n",
    "  new=data.frame(PC1=cov$PC1,PC2=cov$PC2,PC3=cov$PC3)\n",
    "  pred_y=predict(m1,newdata = new)\n",
    "  \n",
    "  pred_y=pred_y[!is.na(pred_y)]\n",
    "  test_BODYFAT=test$BODYFAT[!is.na(test$BODYFAT)]\n",
    "  \n",
    "  accs[i] <- mean((pred_y-test_BODYFAT)^2)\n",
    "}\n",
    "\n",
    "(acc_pca=mean(accs))"
   ]
  },
  {
   "cell_type": "code",
   "execution_count": 7,
   "metadata": {},
   "outputs": [
    {
     "data": {
      "text/html": [
       "16.3140953389127"
      ],
      "text/latex": [
       "16.3140953389127"
      ],
      "text/markdown": [
       "16.3140953389127"
      ],
      "text/plain": [
       "[1] 16.3141"
      ]
     },
     "metadata": {},
     "output_type": "display_data"
    }
   ],
   "source": [
    "#mallow's cp\n",
    "accs <- rep(0,3)\n",
    "cp.choice <- c(2,7,13,14)+1\n",
    "bodyfat_cp <- bodyfat[,c(1,cp.choice)]\n",
    "\n",
    "for (i in 1:3) {\n",
    "  set.seed(2019)\n",
    "  indices <- sample.int(n = nrow(bodyfat), size = floor(2/3*nrow(bodyfat)), replace = F)\n",
    "\n",
    "  train <- bodyfat_cp[-indices,]\n",
    "  test <- bodyfat_cp[indices,]\n",
    "  \n",
    "  model <- lm(BODYFAT ~ ., data = train)\n",
    "  \n",
    "  # Make a prediction on the test set using tree\n",
    "  pred_y=predict(model, test[,-1])\n",
    "  \n",
    "  pred_y=pred_y[!is.na(pred_y)]\n",
    "  test_BODYFAT=test$BODYFAT[!is.na(test$BODYFAT)]\n",
    "  \n",
    "  accs[i] <- mean((pred_y-test_BODYFAT)^2)\n",
    "}\n",
    "\n",
    "(acc_cp=mean(accs))"
   ]
  },
  {
   "cell_type": "code",
   "execution_count": 8,
   "metadata": {},
   "outputs": [
    {
     "data": {
      "text/html": [
       "16.7456354370213"
      ],
      "text/latex": [
       "16.7456354370213"
      ],
      "text/markdown": [
       "16.7456354370213"
      ],
      "text/plain": [
       "[1] 16.74564"
      ]
     },
     "metadata": {},
     "output_type": "display_data"
    }
   ],
   "source": [
    "#r2\n",
    "accs <- rep(0,3)\n",
    "r2.choice <- c(2,3,6,8,9,10,14,15)\n",
    "bodyfat_r2 <-bodyfat[,c(1,r2.choice)]\n",
    "\n",
    "for (i in 1:3) {\n",
    "  set.seed(2019)\n",
    "  indices <- sample.int(n = nrow(bodyfat), size = floor(2/3*nrow(bodyfat)), replace = F)\n",
    "  train <- bodyfat_r2[-indices,]\n",
    "  test <- bodyfat_r2[indices,]\n",
    "  model <- lm(BODYFAT ~ ., data = train)\n",
    "  \n",
    "  # Make a prediction on the test set using tree\n",
    "  pred_y=predict(model, test[,-1])\n",
    "  \n",
    "  pred_y=pred_y[!is.na(pred_y)]\n",
    "  test_BODYFAT=test$BODYFAT[!is.na(test$BODYFAT)]\n",
    "  \n",
    "  accs[i] <- mean((pred_y-test_BODYFAT)^2)\n",
    "}\n",
    "\n",
    "(acc_r2=mean(accs))"
   ]
  },
  {
   "cell_type": "code",
   "execution_count": 9,
   "metadata": {},
   "outputs": [
    {
     "data": {
      "text/html": [
       "16.7428714607938"
      ],
      "text/latex": [
       "16.7428714607938"
      ],
      "text/markdown": [
       "16.7428714607938"
      ],
      "text/plain": [
       "[1] 16.74287"
      ]
     },
     "metadata": {},
     "output_type": "display_data"
    }
   ],
   "source": [
    "#AIC back\n",
    "accs <- rep(0,3)\n",
    "aic.back.choice <- c(2,3,8,10,14,15)\n",
    "bodyfat_aic.back <-bodyfat[,c(1,aic.back.choice)]\n",
    "\n",
    "for (i in 1:3) {\n",
    "  set.seed(2019)\n",
    "  indices <- sample.int(n = nrow(bodyfat), size = floor(2/3*nrow(bodyfat)), replace = F)\n",
    "  train <- bodyfat_aic.back[-indices,]\n",
    "  test <- bodyfat_aic.back[indices,]\n",
    "  model <- lm(BODYFAT ~ ., data = train)\n",
    "  \n",
    "  # Make a prediction on the test set using tree\n",
    "  pred_y=predict(model, test[,-1])\n",
    "  \n",
    "  pred_y=pred_y[!is.na(pred_y)]\n",
    "  test_BODYFAT=test$BODYFAT[!is.na(test$BODYFAT)]\n",
    "  \n",
    "  accs[i] <- mean((pred_y-test_BODYFAT)^2)\n",
    "}\n",
    "\n",
    "(acc_aic.back=mean(accs))"
   ]
  },
  {
   "cell_type": "code",
   "execution_count": 10,
   "metadata": {},
   "outputs": [
    {
     "data": {
      "text/html": [
       "16.5336952873462"
      ],
      "text/latex": [
       "16.5336952873462"
      ],
      "text/markdown": [
       "16.5336952873462"
      ],
      "text/plain": [
       "[1] 16.5337"
      ]
     },
     "metadata": {},
     "output_type": "display_data"
    }
   ],
   "source": [
    "#BIC back\n",
    "accs <- rep(0,3)\n",
    "bic.back.choice <- c(3,8,15)\n",
    "bodyfat_bic.back <-bodyfat[,c(1,bic.back.choice)]\n",
    "\n",
    "for (i in 1:3) {\n",
    "  set.seed(2019)\n",
    "  indices <- sample.int(n = nrow(bodyfat), size = floor(2/3*nrow(bodyfat)), replace = F)\n",
    "  train <- bodyfat_bic.back[-indices,]\n",
    "  test <- bodyfat_bic.back[indices,]\n",
    "  model <- lm(BODYFAT ~ ., data = train)\n",
    "  \n",
    "  # Make a prediction on the test set using tree\n",
    "  pred_y=predict(model, test[,-1])\n",
    "  \n",
    "  pred_y=pred_y[!is.na(pred_y)]\n",
    "  test_BODYFAT=test$BODYFAT[!is.na(test$BODYFAT)]\n",
    "  \n",
    "  accs[i] <- mean((pred_y-test_BODYFAT)^2)\n",
    "}\n",
    "\n",
    "(acc_bic.back=mean(accs))"
   ]
  },
  {
   "cell_type": "code",
   "execution_count": 11,
   "metadata": {},
   "outputs": [],
   "source": [
    "#aic forward: selected 14 variable, so we don't consider it\n",
    "#bic forward: selected 14 variable, so we don't consider it\n",
    "\n",
    "#aic_stepwise same with aic_back\n",
    "#bic_stepwise same with bic_back"
   ]
  },
  {
   "cell_type": "code",
   "execution_count": 14,
   "metadata": {},
   "outputs": [
    {
     "data": {
      "image/png": "[encoded data removed]",
      "text/plain": [
       "plot without title"
      ]
     },
     "metadata": {},
     "output_type": "display_data"
    }
   ],
   "source": [
    "plot(c(acc_all,acc_pca,acc_cp,acc_r2,acc_aic.back,acc_bic.back),xaxt=\"n\",ylab=\"MSE\")\n",
    "axis(1, at=1:6, labels=c(\"all\",\"PCA\",\"Mallow's Cp\",\"R2\",\"AIC_back\",\"BIC_backw\"))"
   ]
  },
  {
   "cell_type": "code",
   "execution_count": null,
   "metadata": {},
   "outputs": [],
   "source": [
    "#Mallow's Cp has the lowest MSE, but BIC backward method has less variables"
   ]
  }
 ],
 "metadata": {
  "kernelspec": {
   "display_name": "R",
   "language": "R",
   "name": "ir"
  },
  "language_info": {
   "codemirror_mode": "r",
   "file_extension": ".r",
   "mimetype": "text/x-r-source",
   "name": "R",
   "pygments_lexer": "r",
   "version": "3.6.1"
  }
 },
 "nbformat": 4,
 "nbformat_minor": 2
}
